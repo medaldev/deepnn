{
 "cells": [
  {
   "cell_type": "code",
   "execution_count": 5,
   "metadata": {
    "collapsed": true
   },
   "outputs": [
    {
     "name": "stdout",
     "output_type": "stream",
     "text": [
      "asdf\n",
      "asdf\n",
      "asdf\n",
      "asdf\n",
      "asdf\n"
     ]
    }
   ],
   "source": [
    "\n",
    "print(\"asdf\")"
   ]
  }
 ],
 "metadata": {
  "kernelspec": {
   "name": "pycharm-fba586b7",
   "language": "python",
   "display_name": "PyCharm (deepnn)"
  },
  "language_info": {
   "codemirror_mode": {
    "name": "ipython",
    "version": 2
   },
   "file_extension": ".py",
   "mimetype": "text/x-python",
   "name": "python",
   "nbconvert_exporter": "python",
   "pygments_lexer": "ipython2",
   "version": "2.7.6"
  }
 },
 "nbformat": 4,
 "nbformat_minor": 0
}